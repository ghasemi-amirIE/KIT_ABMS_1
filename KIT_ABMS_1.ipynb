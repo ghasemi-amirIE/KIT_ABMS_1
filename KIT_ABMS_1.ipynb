{
  "cells": [
    {
      "cell_type": "markdown",
      "id": "23d97c53",
      "metadata": {
        "id": "23d97c53"
      },
      "source": [
        "### Some Basics:"
      ]
    },
    {
      "cell_type": "code",
      "execution_count": null,
      "id": "cecbdb07",
      "metadata": {
        "id": "cecbdb07",
        "outputId": "fa982533-ad55-42a5-97ed-8edecf195448"
      },
      "outputs": [
        {
          "name": "stdout",
          "output_type": "stream",
          "text": [
            "Five is greater than two!\n"
          ]
        },
        {
          "data": {
            "text/plain": [
              "'\\nThis is a comment\\nwritten in\\nmore than just one line\\n'"
            ]
          },
          "execution_count": 2,
          "metadata": {},
          "output_type": "execute_result"
        }
      ],
      "source": [
        "### Python Indentation and Comments:\n",
        "\n",
        "if 5 > 2:\n",
        "    print(\"Five is greater than two!\")\n",
        "\n",
        "## Two Notes:\n",
        "# The number of spaces is up to you as a programmer, the most common use is four, but it has to be at least one.\n",
        "# You have to use the same number of spaces in the same block of code, otherwise Python will give you an error\n",
        "\n",
        "\n",
        "\"\"\"\n",
        "This is a comment\n",
        "written in\n",
        "more than just one line\n",
        "\"\"\""
      ]
    },
    {
      "cell_type": "code",
      "execution_count": null,
      "id": "b919f001",
      "metadata": {
        "id": "b919f001",
        "outputId": "32977e97-2fe0-49e5-a6f6-018a8da185a4"
      },
      "outputs": [
        {
          "name": "stdout",
          "output_type": "stream",
          "text": [
            "4\n",
            "Sally\n",
            "<class 'int'>\n",
            "<class 'str'>\n"
          ]
        }
      ],
      "source": [
        "### Python Variables:\n",
        "#Python has no command for declaring a variable.\n",
        "#A variable is created the moment you first assign a value to it.\n",
        "\n",
        "x = 4       # x is of type int\n",
        "y = \"Sally\" # x is now of type str\n",
        "print(x)\n",
        "print(y)\n",
        "print(type(x))\n",
        "print(type(y))\n",
        "\n",
        "# Note: Variable names are case-sensitive."
      ]
    },
    {
      "cell_type": "code",
      "execution_count": null,
      "id": "465f788e",
      "metadata": {
        "id": "465f788e",
        "outputId": "c9792471-75ad-434e-b5f8-193732dea6c2"
      },
      "outputs": [
        {
          "name": "stdout",
          "output_type": "stream",
          "text": [
            "Orange\n",
            "Banana\n",
            "Cherry\n"
          ]
        }
      ],
      "source": [
        "###Many Values to Multiple Variables:\n",
        "\n",
        "x, y, z = \"Orange\", \"Banana\", \"Cherry\"\n",
        "print(x)\n",
        "print(y)\n",
        "print(z)"
      ]
    },
    {
      "cell_type": "code",
      "execution_count": null,
      "id": "19d54880",
      "metadata": {
        "id": "19d54880",
        "outputId": "3eab6632-cfeb-4a56-d70f-8fb095d5ca17"
      },
      "outputs": [
        {
          "name": "stdout",
          "output_type": "stream",
          "text": [
            "Orange\n",
            "Orange\n",
            "Orange\n"
          ]
        }
      ],
      "source": [
        "###One Value to Multiple Variables:\n",
        "\n",
        "x = y = z = \"Orange\"\n",
        "print(x)\n",
        "print(y)\n",
        "print(z)"
      ]
    },
    {
      "cell_type": "code",
      "execution_count": null,
      "id": "5a48d4a1",
      "metadata": {
        "id": "5a48d4a1",
        "outputId": "c04ddcbd-8e0b-4ef3-fb24-00f0223bddc5"
      },
      "outputs": [
        {
          "name": "stdout",
          "output_type": "stream",
          "text": [
            "apple\n",
            "banana\n",
            "cherry\n",
            "<class 'list'>\n",
            "<class 'str'>\n"
          ]
        }
      ],
      "source": [
        "### Unpack a Collection:\n",
        "\n",
        "fruits = [\"apple\", \"banana\", \"cherry\"]\n",
        "x, y, z = fruits\n",
        "print(x)\n",
        "print(y)\n",
        "print(z)\n",
        "print(type(fruits))\n",
        "print(type(x))"
      ]
    },
    {
      "cell_type": "code",
      "execution_count": null,
      "id": "4600f1e5",
      "metadata": {
        "id": "4600f1e5",
        "outputId": "f879cafe-3512-4eff-f276-736d972242ea"
      },
      "outputs": [
        {
          "name": "stdout",
          "output_type": "stream",
          "text": [
            "5 John\n"
          ]
        }
      ],
      "source": [
        "### An important note about printing:\n",
        "#In the print() function, when you try to combine a string and a number with the + operator, Python will give you an error\n",
        "\n",
        "x = 5\n",
        "y = \"John\"\n",
        "print(x, y)\n",
        "\n"
      ]
    },
    {
      "cell_type": "markdown",
      "id": "269d7cb3",
      "metadata": {
        "id": "269d7cb3"
      },
      "source": [
        "### Python Data Types:\n",
        "\n"
      ]
    },
    {
      "cell_type": "code",
      "execution_count": null,
      "id": "c670b2e0",
      "metadata": {
        "id": "c670b2e0",
        "outputId": "08d2d74a-d1d9-4a9c-efec-037a0d8c4bf2"
      },
      "outputs": [
        {
          "name": "stdout",
          "output_type": "stream",
          "text": [
            "<class 'str'>\n"
          ]
        }
      ],
      "source": [
        "x = \"Hello World\"\n",
        "print(type(x))"
      ]
    },
    {
      "cell_type": "code",
      "execution_count": null,
      "id": "bc9b7bc7",
      "metadata": {
        "id": "bc9b7bc7",
        "outputId": "c67a8251-79fb-4263-d4fb-635cefbef03f"
      },
      "outputs": [
        {
          "name": "stdout",
          "output_type": "stream",
          "text": [
            "<class 'int'>\n"
          ]
        }
      ],
      "source": [
        "x = 20\n",
        "print(type(x))"
      ]
    },
    {
      "cell_type": "code",
      "execution_count": null,
      "id": "c5e4cc96",
      "metadata": {
        "id": "c5e4cc96",
        "outputId": "4fe7e833-0ce1-4ff7-95d4-1a7c1d8668f3"
      },
      "outputs": [
        {
          "name": "stdout",
          "output_type": "stream",
          "text": [
            "<class 'float'>\n"
          ]
        }
      ],
      "source": [
        "x = 20.5\n",
        "print(type(x))"
      ]
    },
    {
      "cell_type": "code",
      "execution_count": null,
      "id": "2789ef6f",
      "metadata": {
        "id": "2789ef6f",
        "outputId": "903ca6cb-0a6d-4c72-86c3-b25e9539a363"
      },
      "outputs": [
        {
          "name": "stdout",
          "output_type": "stream",
          "text": [
            "<class 'list'>\n"
          ]
        }
      ],
      "source": [
        "x = [\"apple\", \"banana\", \"cherry\"]\n",
        "print(type(x))"
      ]
    },
    {
      "cell_type": "code",
      "execution_count": null,
      "id": "63f80df3",
      "metadata": {
        "id": "63f80df3",
        "outputId": "e78db10b-2c48-439a-8ae6-5c4c03fbc99e"
      },
      "outputs": [
        {
          "name": "stdout",
          "output_type": "stream",
          "text": [
            "<class 'tuple'>\n"
          ]
        }
      ],
      "source": [
        "x = (\"apple\", \"banana\", \"cherry\")\n",
        "print(type(x))"
      ]
    },
    {
      "cell_type": "code",
      "execution_count": null,
      "id": "ec0bd717",
      "metadata": {
        "id": "ec0bd717",
        "outputId": "028e505e-371a-49db-dfc1-a835badfdfde"
      },
      "outputs": [
        {
          "name": "stdout",
          "output_type": "stream",
          "text": [
            "<class 'range'>\n"
          ]
        }
      ],
      "source": [
        "x = range(6)\n",
        "print(type(x))"
      ]
    },
    {
      "cell_type": "code",
      "execution_count": null,
      "id": "01f3da20",
      "metadata": {
        "id": "01f3da20",
        "outputId": "3e6b48ca-93b7-4cc0-9fab-48f065e8390d"
      },
      "outputs": [
        {
          "name": "stdout",
          "output_type": "stream",
          "text": [
            "<class 'dict'>\n"
          ]
        }
      ],
      "source": [
        "x = {\"name\" : \"John\", \"age\" : 36}\n",
        "print(type(x))"
      ]
    },
    {
      "cell_type": "code",
      "execution_count": null,
      "id": "3f37f856",
      "metadata": {
        "id": "3f37f856",
        "outputId": "56f3000e-5fba-4c37-e2bf-0b4f4d4dd67b"
      },
      "outputs": [
        {
          "name": "stdout",
          "output_type": "stream",
          "text": [
            "<class 'set'>\n"
          ]
        }
      ],
      "source": [
        "x = {\"apple\", \"banana\", \"cherry\"}\n",
        "print(type(x))"
      ]
    },
    {
      "cell_type": "code",
      "execution_count": null,
      "id": "fc697a03",
      "metadata": {
        "id": "fc697a03",
        "outputId": "764147f3-8e8d-47a6-f372-536e6f9cfdcd"
      },
      "outputs": [
        {
          "name": "stdout",
          "output_type": "stream",
          "text": [
            "<class 'bool'>\n"
          ]
        }
      ],
      "source": [
        "x = True\n",
        "print(type(x))"
      ]
    },
    {
      "cell_type": "code",
      "execution_count": null,
      "id": "3bdfd6af",
      "metadata": {
        "id": "3bdfd6af",
        "outputId": "034ebcd7-205f-4448-bcca-ab9033a34782"
      },
      "outputs": [
        {
          "name": "stdout",
          "output_type": "stream",
          "text": [
            "<class 'NoneType'>\n"
          ]
        }
      ],
      "source": [
        "x = None\n",
        "print(type(x))"
      ]
    },
    {
      "cell_type": "markdown",
      "id": "a15572d6",
      "metadata": {
        "id": "a15572d6"
      },
      "source": [
        "### Random Numbers:"
      ]
    },
    {
      "cell_type": "code",
      "execution_count": null,
      "id": "403bdac3",
      "metadata": {
        "id": "403bdac3",
        "outputId": "eb3ad8a9-052c-4f7e-9aa8-732d4c31619c"
      },
      "outputs": [
        {
          "name": "stdout",
          "output_type": "stream",
          "text": [
            "4\n"
          ]
        }
      ],
      "source": [
        "### Python does not have a random() function to make a random number,\n",
        "###but Python has a built-in module called random that can be used to make random numbers:\n",
        "\n",
        "import random\n",
        "\n",
        "print(random.randrange(1, 10))\n"
      ]
    },
    {
      "cell_type": "markdown",
      "id": "4050fffe",
      "metadata": {
        "id": "4050fffe"
      },
      "source": [
        "### Python Strings:"
      ]
    },
    {
      "cell_type": "code",
      "execution_count": null,
      "id": "1503a80f",
      "metadata": {
        "id": "1503a80f",
        "outputId": "f7222a51-d874-4e29-ad49-5aec404546d1"
      },
      "outputs": [
        {
          "name": "stdout",
          "output_type": "stream",
          "text": [
            "Lorem ipsum dolor sit amet,\n",
            "consectetur adipiscing elit,\n",
            "sed do eiusmod tempor incididunt\n",
            "ut labore et dolore magna aliqua.\n"
          ]
        }
      ],
      "source": [
        "# You can assign a multiline string to a variable by using three quotes:\n",
        "\n",
        "a = \"\"\"Lorem ipsum dolor sit amet,\n",
        "consectetur adipiscing elit,\n",
        "sed do eiusmod tempor incididunt\n",
        "ut labore et dolore magna aliqua.\"\"\"\n",
        "print(a)"
      ]
    },
    {
      "cell_type": "code",
      "execution_count": null,
      "id": "32db7e91",
      "metadata": {
        "id": "32db7e91",
        "outputId": "71ea91ea-31f4-416b-e6d0-26016a419a37"
      },
      "outputs": [
        {
          "name": "stdout",
          "output_type": "stream",
          "text": [
            "e\n"
          ]
        }
      ],
      "source": [
        "# Get the character at position 1:\n",
        "\n",
        "a = \"Hello, World!\"\n",
        "print(a[1])\n",
        "\n"
      ]
    },
    {
      "cell_type": "code",
      "execution_count": null,
      "id": "bea6ced7",
      "metadata": {
        "id": "bea6ced7",
        "outputId": "ae68a61e-f614-4b18-b9fe-64140e8c66af"
      },
      "outputs": [
        {
          "name": "stdout",
          "output_type": "stream",
          "text": [
            "b\n",
            "a\n",
            "n\n",
            "a\n",
            "n\n",
            "a\n",
            "6\n"
          ]
        }
      ],
      "source": [
        "# Looping Through a String:\n",
        "a=\"banana\"\n",
        "for x in a:\n",
        "    print(x)\n",
        "\n",
        "print(len(a))"
      ]
    },
    {
      "cell_type": "code",
      "execution_count": null,
      "id": "898a2dc6",
      "metadata": {
        "id": "898a2dc6",
        "outputId": "dc494f4e-6154-4926-c9cc-4652091ebb8e"
      },
      "outputs": [
        {
          "name": "stdout",
          "output_type": "stream",
          "text": [
            "Yes, 'free' is present.\n"
          ]
        }
      ],
      "source": [
        "# Check String:\n",
        "\n",
        "txt = \"The best things in life are free!\"\n",
        "if \"free\" in txt:\n",
        "    print(\"Yes, 'free' is present.\")"
      ]
    },
    {
      "cell_type": "code",
      "execution_count": null,
      "id": "994fd4fa",
      "metadata": {
        "id": "994fd4fa",
        "outputId": "721456e1-7954-40c2-ca37-33f97bf795ff"
      },
      "outputs": [
        {
          "name": "stdout",
          "output_type": "stream",
          "text": [
            "llo\n",
            "Hello\n",
            "llo, World!\n",
            "orl\n"
          ]
        }
      ],
      "source": [
        "# Slicing Strings:\n",
        "\n",
        "b = \"Hello, World!\"\n",
        "print(b[2:5])\n",
        "print(b[:5])\n",
        "print(b[2:])\n",
        "print(b[-5:-2])"
      ]
    },
    {
      "cell_type": "code",
      "execution_count": null,
      "id": "662d0978",
      "metadata": {
        "id": "662d0978",
        "outputId": "909835cd-3c68-4e0b-eb25-f1e8f0d16d40"
      },
      "outputs": [
        {
          "name": "stdout",
          "output_type": "stream",
          "text": [
            "HELLO, WORLD!\n"
          ]
        }
      ],
      "source": [
        "# The upper() method returns the string in upper case\n",
        "\n",
        "a = \"Hello, World!\"\n",
        "print(a.upper())"
      ]
    },
    {
      "cell_type": "code",
      "execution_count": null,
      "id": "18f82f88",
      "metadata": {
        "id": "18f82f88",
        "outputId": "fb6af0e1-1fd6-487f-9bec-e179f614a1c5"
      },
      "outputs": [
        {
          "name": "stdout",
          "output_type": "stream",
          "text": [
            "hello, world!\n"
          ]
        }
      ],
      "source": [
        "a = \"Hello, World!\"\n",
        "print(a.lower())"
      ]
    },
    {
      "cell_type": "code",
      "execution_count": null,
      "id": "d6062345",
      "metadata": {
        "id": "d6062345",
        "outputId": "1422da2f-7565-4c09-b254-47b624fc355d"
      },
      "outputs": [
        {
          "name": "stdout",
          "output_type": "stream",
          "text": [
            "Jello, World!\n"
          ]
        }
      ],
      "source": [
        "a = \"Hello, World!\"\n",
        "print(a.replace(\"H\", \"J\"))"
      ]
    },
    {
      "cell_type": "code",
      "execution_count": null,
      "id": "a55cf6ed",
      "metadata": {
        "id": "a55cf6ed",
        "outputId": "85d54d5f-9640-4155-9537-d28c13e4ac12"
      },
      "outputs": [
        {
          "name": "stdout",
          "output_type": "stream",
          "text": [
            "Hello World\n"
          ]
        }
      ],
      "source": [
        "# String Concatenation:\n",
        "\n",
        "a = \"Hello\"\n",
        "b = \"World\"\n",
        "c = a + \" \" + b\n",
        "print(c)"
      ]
    },
    {
      "cell_type": "code",
      "execution_count": null,
      "id": "2f9732d6",
      "metadata": {
        "id": "2f9732d6",
        "outputId": "0a3cbd57-d49b-4d3c-ff55-6cabda3e9a68"
      },
      "outputs": [
        {
          "name": "stdout",
          "output_type": "stream",
          "text": [
            "I want 3 pieces of item 567 for 49.95 dollars.\n"
          ]
        }
      ],
      "source": [
        "# String Format:\n",
        "\n",
        "quantity = 3\n",
        "itemno = 567\n",
        "price = 49.95\n",
        "myorder = \"I want {} pieces of item {} for {} dollars.\"\n",
        "print(myorder.format(quantity, itemno, price))"
      ]
    },
    {
      "cell_type": "code",
      "execution_count": null,
      "id": "f78d49ca",
      "metadata": {
        "id": "f78d49ca"
      },
      "outputs": [],
      "source": [
        "txt = \"We are the so-called \\\"Vikings\\\" from the north.\"\n",
        "# \\ is the escape character, you can also use \\n to go to a new line\n",
        "# You can also search online for all available string methods"
      ]
    },
    {
      "cell_type": "markdown",
      "id": "1b478ab8",
      "metadata": {
        "id": "1b478ab8"
      },
      "source": [
        "### Booleans:"
      ]
    },
    {
      "cell_type": "code",
      "execution_count": null,
      "id": "2e9e6804",
      "metadata": {
        "id": "2e9e6804",
        "outputId": "bf44cd1b-ffc3-4a44-c9db-e66819db904e"
      },
      "outputs": [
        {
          "name": "stdout",
          "output_type": "stream",
          "text": [
            "b is greater than a\n",
            "<class 'bool'>\n"
          ]
        }
      ],
      "source": [
        "a = 20\n",
        "b = 33\n",
        "c=b>a\n",
        "if c:\n",
        "    print(\"b is greater than a\")\n",
        "else:\n",
        "    print(\"b is not greater than a\")\n",
        "\n",
        "print(type(c))"
      ]
    },
    {
      "cell_type": "markdown",
      "id": "ba780b07",
      "metadata": {
        "id": "ba780b07"
      },
      "source": [
        "### Lists:"
      ]
    },
    {
      "cell_type": "code",
      "execution_count": null,
      "id": "8182d009",
      "metadata": {
        "id": "8182d009",
        "outputId": "3036e902-d58d-4e70-abe6-8c9fff41f2b9"
      },
      "outputs": [
        {
          "name": "stdout",
          "output_type": "stream",
          "text": [
            "['apple', 'banana', 'cherry', 4, 6, 8]\n",
            "banana\n",
            "8\n",
            "['cherry', 4, 6]\n",
            "['cherry', 4, 6]\n",
            "Yes, 'apple' is in the fruits list\n"
          ]
        }
      ],
      "source": [
        "#Lists are one of 4 built-in data types in Python used to store collections of data,\n",
        "#the other 3 are Tuple, Set, and Dictionary, all with different qualities and usage.\n",
        "#Lists are created using square brackets\n",
        "\n",
        "list1 = [\"abc\", 34, True, 40, \"male\"]\n",
        "\n",
        "thislist = list((\"apple\", \"banana\", \"cherry\",4,6,8)) # note the double round-brackets\n",
        "\n",
        "print(thislist)\n",
        "print(thislist[1])\n",
        "print(thislist[-1])\n",
        "print(thislist[2:5])\n",
        "print(thislist[-4:-1])\n",
        "\n",
        "if \"apple\" in thislist:\n",
        "    print(\"Yes, 'apple' is in the fruits list\")\n"
      ]
    },
    {
      "cell_type": "code",
      "execution_count": null,
      "id": "b4e838a6",
      "metadata": {
        "id": "b4e838a6",
        "outputId": "871be8cc-965c-4f4f-ed59-5aeee3508549"
      },
      "outputs": [
        {
          "name": "stdout",
          "output_type": "stream",
          "text": [
            "['apple', 'blackcurrant', 'watermelon', 'cherry', 4, 6, 8]\n"
          ]
        }
      ],
      "source": [
        "### Change list items:\n",
        "\n",
        "thislist[1:2] = [\"blackcurrant\", \"watermelon\"]\n",
        "print(thislist)"
      ]
    },
    {
      "cell_type": "code",
      "execution_count": null,
      "id": "8a7a781a",
      "metadata": {
        "id": "8a7a781a",
        "outputId": "d0b9ddb7-1553-4444-be40-3c0f0269c66e"
      },
      "outputs": [
        {
          "name": "stdout",
          "output_type": "stream",
          "text": [
            "['apple', 'blackcurrant', 'watermelon', 'watermelon', 'cherry', 4, 6, 8]\n"
          ]
        }
      ],
      "source": [
        "### Insert items:\n",
        "\n",
        "thislist.insert(2, \"watermelon\")\n",
        "print(thislist)\n"
      ]
    },
    {
      "cell_type": "code",
      "execution_count": null,
      "id": "da69f02d",
      "metadata": {
        "id": "da69f02d",
        "outputId": "1eff6e5b-8b04-4df9-f8a3-dc78668b3edc"
      },
      "outputs": [
        {
          "name": "stdout",
          "output_type": "stream",
          "text": [
            "['apple', 'banana', 'cherry', 'mango', 'pineapple', 'papaya']\n"
          ]
        }
      ],
      "source": [
        "### Extend lists:\n",
        "\n",
        "thislist = [\"apple\", \"banana\", \"cherry\"]\n",
        "tropical = [\"mango\", \"pineapple\", \"papaya\"]\n",
        "thislist.extend(tropical)\n",
        "print(thislist)"
      ]
    },
    {
      "cell_type": "code",
      "execution_count": null,
      "id": "5d805605",
      "metadata": {
        "id": "5d805605",
        "outputId": "aec4b5c1-219c-4eec-aae1-358e3bb0d6d0"
      },
      "outputs": [
        {
          "name": "stdout",
          "output_type": "stream",
          "text": [
            "['apple', 'banana', 'cherry', 'mango', 'pineapple', 'papaya', 'orange']\n"
          ]
        }
      ],
      "source": [
        "### append\n",
        "\n",
        "thislist.append(\"orange\")\n",
        "print(thislist)"
      ]
    },
    {
      "cell_type": "code",
      "execution_count": null,
      "id": "f6ee64cc",
      "metadata": {
        "id": "f6ee64cc",
        "outputId": "2b714082-5ada-436e-e8a0-51e4e5043697"
      },
      "outputs": [
        {
          "name": "stdout",
          "output_type": "stream",
          "text": [
            "['apple', 'cherry', 'mango', 'pineapple', 'papaya', 'orange']\n"
          ]
        }
      ],
      "source": [
        "### pop _ if you dont enter the id, the function removes the last item\n",
        "\n",
        "thislist.pop(1)\n",
        "print(thislist)"
      ]
    },
    {
      "cell_type": "code",
      "execution_count": null,
      "id": "566ea57b",
      "metadata": {
        "id": "566ea57b",
        "outputId": "79988acf-e12b-4207-bfd3-4cbb72ce1e77"
      },
      "outputs": [
        {
          "name": "stdout",
          "output_type": "stream",
          "text": [
            "apple\n",
            "cherry\n",
            "mango\n",
            "pineapple\n",
            "papaya\n",
            "orange\n"
          ]
        }
      ],
      "source": [
        "### Loop list\n",
        "\n",
        "for i in range(len(thislist)):\n",
        "    print(thislist[i])"
      ]
    },
    {
      "cell_type": "code",
      "execution_count": null,
      "id": "3c7d3bb3",
      "metadata": {
        "id": "3c7d3bb3",
        "outputId": "85ddff8a-1f58-4603-c54a-e187867fba32"
      },
      "outputs": [
        {
          "name": "stdout",
          "output_type": "stream",
          "text": [
            "['apple', 'cherry', 'mango', 'orange', 'papaya', 'pineapple']\n"
          ]
        }
      ],
      "source": [
        "### Sort List\n",
        "\n",
        "thislist.sort()\n",
        "print(thislist)"
      ]
    },
    {
      "cell_type": "code",
      "execution_count": null,
      "id": "05fe23ab",
      "metadata": {
        "id": "05fe23ab",
        "outputId": "685bd30a-0cb0-4943-ff5e-cc603e5e1646"
      },
      "outputs": [
        {
          "name": "stdout",
          "output_type": "stream",
          "text": [
            "['pineapple', 'papaya', 'orange', 'mango', 'cherry', 'apple']\n"
          ]
        }
      ],
      "source": [
        "thislist.sort(reverse = True)\n",
        "print(thislist)"
      ]
    },
    {
      "cell_type": "markdown",
      "id": "4320f32d",
      "metadata": {
        "id": "4320f32d"
      },
      "source": [
        "### Python Functions:"
      ]
    },
    {
      "cell_type": "code",
      "execution_count": null,
      "id": "7fd1902d",
      "metadata": {
        "id": "7fd1902d"
      },
      "outputs": [],
      "source": [
        "def my_function():\n",
        "    print(\"Hello from a function\")"
      ]
    },
    {
      "cell_type": "code",
      "execution_count": null,
      "id": "6af66c9d",
      "metadata": {
        "id": "6af66c9d",
        "outputId": "e28991cd-8eac-4f07-c51d-389c1621ebf4"
      },
      "outputs": [
        {
          "name": "stdout",
          "output_type": "stream",
          "text": [
            "Hello from a function\n"
          ]
        }
      ],
      "source": [
        "my_function()"
      ]
    },
    {
      "cell_type": "code",
      "execution_count": null,
      "id": "28e99b8a",
      "metadata": {
        "id": "28e99b8a"
      },
      "outputs": [],
      "source": [
        "def my_function(fname):\n",
        "    print(fname + \" You are enrolled\")\n"
      ]
    },
    {
      "cell_type": "code",
      "execution_count": null,
      "id": "9963e2f9",
      "metadata": {
        "id": "9963e2f9",
        "outputId": "918ac705-6491-4ac2-9b6f-ad61a7bbb33e"
      },
      "outputs": [
        {
          "name": "stdout",
          "output_type": "stream",
          "text": [
            "Emil You are enrolled\n",
            "Tobias You are enrolled\n",
            "Linus You are enrolled\n"
          ]
        }
      ],
      "source": [
        "my_function(\"Emil\")\n",
        "my_function(\"Tobias\")\n",
        "my_function(\"Linus\")"
      ]
    },
    {
      "cell_type": "markdown",
      "source": [
        "## Tuple:"
      ],
      "metadata": {
        "id": "XWQYbQ81YQsF"
      },
      "id": "XWQYbQ81YQsF"
    },
    {
      "cell_type": "code",
      "source": [
        "#Tuple\n",
        "#Tuples are used to store multiple items in a single variable.\n",
        "\n",
        "#Tuple is one of 4 built-in data types in Python used to store collections of data, the other 3 are List, Set, and Dictionary, all with different qualities and usage.\n",
        "\n",
        "#A tuple is a collection which is ordered and unchangeable.\n",
        "\n",
        "#Tuples are written with round brackets.\n",
        "\n",
        "thistuple = (\"apple\", \"banana\", \"cherry\")\n",
        "print(thistuple)"
      ],
      "metadata": {
        "colab": {
          "base_uri": "https://localhost:8080/"
        },
        "id": "1HvpF54OYOYu",
        "outputId": "435fbe64-fcf0-4f97-d91b-36332337d491"
      },
      "id": "1HvpF54OYOYu",
      "execution_count": 1,
      "outputs": [
        {
          "output_type": "stream",
          "name": "stdout",
          "text": [
            "('apple', 'banana', 'cherry')\n"
          ]
        }
      ]
    },
    {
      "cell_type": "code",
      "source": [
        "# To determine how many items a tuple has, use the len() function\n",
        "\n",
        "thistuple = (\"apple\", \"banana\", \"cherry\")\n",
        "print(len(thistuple))"
      ],
      "metadata": {
        "colab": {
          "base_uri": "https://localhost:8080/"
        },
        "id": "0fxWosZDYYL5",
        "outputId": "c085bfcf-3eeb-41ea-f0af-fdecdee29a8e"
      },
      "id": "0fxWosZDYYL5",
      "execution_count": 2,
      "outputs": [
        {
          "output_type": "stream",
          "name": "stdout",
          "text": [
            "3\n"
          ]
        }
      ]
    },
    {
      "cell_type": "code",
      "source": [
        "# A tuple can contain different data types\n",
        "tuple1 = (\"abc\", 34, True, 40, \"male\")\n",
        "print(tuple1)\n",
        "print(type(tuple1))"
      ],
      "metadata": {
        "colab": {
          "base_uri": "https://localhost:8080/"
        },
        "id": "Ha3YI7PqYakN",
        "outputId": "2e98bac7-0790-4a3c-a787-131444ef66bf"
      },
      "id": "Ha3YI7PqYakN",
      "execution_count": 3,
      "outputs": [
        {
          "output_type": "stream",
          "name": "stdout",
          "text": [
            "('abc', 34, True, 40, 'male')\n",
            "<class 'tuple'>\n"
          ]
        }
      ]
    },
    {
      "cell_type": "code",
      "source": [
        "# Using the tuple() method to make a tuple\n",
        "\n",
        "thistuple = tuple((\"apple\", \"banana\", \"cherry\")) # note the double round-brackets\n",
        "print(thistuple)\n",
        "print(thistuple[1])\n",
        "print(thistuple[0:2])"
      ],
      "metadata": {
        "colab": {
          "base_uri": "https://localhost:8080/"
        },
        "id": "lgZT4l0uYxAn",
        "outputId": "006425e9-6581-4299-b88e-491818a2ccdc"
      },
      "id": "lgZT4l0uYxAn",
      "execution_count": 4,
      "outputs": [
        {
          "output_type": "stream",
          "name": "stdout",
          "text": [
            "('apple', 'banana', 'cherry')\n",
            "banana\n",
            "('apple', 'banana')\n"
          ]
        }
      ]
    },
    {
      "cell_type": "code",
      "source": [
        "# Change Tuple Values\n",
        "# Convert the tuple into a list to be able to change it\n",
        "\n",
        "x = (\"apple\", \"banana\", \"cherry\")\n",
        "y = list(x)\n",
        "y[1] = \"kiwi\"\n",
        "x = tuple(y)\n",
        "\n",
        "print(x)"
      ],
      "metadata": {
        "colab": {
          "base_uri": "https://localhost:8080/"
        },
        "id": "uUeUcevFY08C",
        "outputId": "c8e347a2-ad89-42fc-8d7f-cf17ef441053"
      },
      "id": "uUeUcevFY08C",
      "execution_count": 5,
      "outputs": [
        {
          "output_type": "stream",
          "name": "stdout",
          "text": [
            "('apple', 'kiwi', 'cherry')\n"
          ]
        }
      ]
    },
    {
      "cell_type": "code",
      "source": [
        "# Loop Through a Tuple\n",
        "\n",
        "thistuple = (\"apple\", \"banana\", \"cherry\")\n",
        "for x in thistuple:\n",
        "    print(x)"
      ],
      "metadata": {
        "colab": {
          "base_uri": "https://localhost:8080/"
        },
        "id": "-jBUTGDrY3pI",
        "outputId": "6af14a32-5931-4ae8-ae71-af6118032f75"
      },
      "id": "-jBUTGDrY3pI",
      "execution_count": 6,
      "outputs": [
        {
          "output_type": "stream",
          "name": "stdout",
          "text": [
            "apple\n",
            "banana\n",
            "cherry\n"
          ]
        }
      ]
    },
    {
      "cell_type": "code",
      "source": [
        "thistuple = (\"apple\", \"banana\", \"cherry\")\n",
        "for i in range(len(thistuple)):\n",
        "    print(thistuple[i])"
      ],
      "metadata": {
        "colab": {
          "base_uri": "https://localhost:8080/"
        },
        "id": "lKkafAPqY52N",
        "outputId": "5c6a0876-c5ba-464b-9ce6-0be97f6dcb6f"
      },
      "id": "lKkafAPqY52N",
      "execution_count": 7,
      "outputs": [
        {
          "output_type": "stream",
          "name": "stdout",
          "text": [
            "apple\n",
            "banana\n",
            "cherry\n"
          ]
        }
      ]
    },
    {
      "cell_type": "code",
      "source": [
        "thistuple = (\"apple\", \"banana\", \"cherry\")\n",
        "i = 0\n",
        "while i < len(thistuple):\n",
        "    print(thistuple[i])\n",
        "    i = i + 1"
      ],
      "metadata": {
        "colab": {
          "base_uri": "https://localhost:8080/"
        },
        "id": "WgwnVCQoY8fj",
        "outputId": "de7eeefc-15b5-4236-c78e-99d31b0022f4"
      },
      "id": "WgwnVCQoY8fj",
      "execution_count": 8,
      "outputs": [
        {
          "output_type": "stream",
          "name": "stdout",
          "text": [
            "apple\n",
            "banana\n",
            "cherry\n"
          ]
        }
      ]
    },
    {
      "cell_type": "code",
      "source": [
        "# Multiply the fruits tuple by 2\n",
        "\n",
        "fruits = (\"apple\", \"banana\", \"cherry\")\n",
        "mytuple = fruits * 2\n",
        "\n",
        "print(mytuple)"
      ],
      "metadata": {
        "colab": {
          "base_uri": "https://localhost:8080/"
        },
        "id": "og8mjA0YY-_G",
        "outputId": "32cd4271-ed2b-4b35-9e49-316c4acfce78"
      },
      "id": "og8mjA0YY-_G",
      "execution_count": 9,
      "outputs": [
        {
          "output_type": "stream",
          "name": "stdout",
          "text": [
            "('apple', 'banana', 'cherry', 'apple', 'banana', 'cherry')\n"
          ]
        }
      ]
    },
    {
      "cell_type": "markdown",
      "source": [
        "### Python Sets"
      ],
      "metadata": {
        "id": "uWkphk80ZEpF"
      },
      "id": "uWkphk80ZEpF"
    },
    {
      "cell_type": "code",
      "source": [
        "#Sets are used to store multiple items in a single variable.\n",
        "\n",
        "#Set is one of 4 built-in data types in Python used to store collections of data, the other 3 are List, Tuple, and Dictionary, all with different qualities and usage.\n",
        "\n",
        "#A set is a collection which is unordered, unchangeable*, and unindexed.\n",
        "\n",
        "# Sets are written with curly brackets.\n",
        "\n",
        "\n",
        "thisset = {\"apple\", \"banana\", \"cherry\"}\n",
        "print(thisset)"
      ],
      "metadata": {
        "colab": {
          "base_uri": "https://localhost:8080/"
        },
        "id": "pmqS9KuDZFcc",
        "outputId": "3663da0d-6749-4fad-ece5-433ce2714050"
      },
      "id": "pmqS9KuDZFcc",
      "execution_count": 10,
      "outputs": [
        {
          "output_type": "stream",
          "name": "stdout",
          "text": [
            "{'apple', 'cherry', 'banana'}\n"
          ]
        }
      ]
    },
    {
      "cell_type": "code",
      "source": [
        "# Duplicate values will be ignored\n",
        "\n",
        "thisset = {\"apple\", \"banana\", \"cherry\", \"apple\"}\n",
        "\n",
        "print(thisset)\n"
      ],
      "metadata": {
        "colab": {
          "base_uri": "https://localhost:8080/"
        },
        "id": "r6MUx1yRZJZD",
        "outputId": "6d53c728-736c-45f1-d0b9-8a98438aae89"
      },
      "id": "r6MUx1yRZJZD",
      "execution_count": 11,
      "outputs": [
        {
          "output_type": "stream",
          "name": "stdout",
          "text": [
            "{'apple', 'cherry', 'banana'}\n"
          ]
        }
      ]
    },
    {
      "cell_type": "code",
      "source": [
        "thisset = {\"apple\", \"banana\", \"cherry\"}\n",
        "\n",
        "print(len(thisset))\n",
        "print(type(thisset))"
      ],
      "metadata": {
        "colab": {
          "base_uri": "https://localhost:8080/"
        },
        "id": "5nP8HpjKZRDJ",
        "outputId": "0d0e7e53-6af0-40ad-e9ed-b156c4151be2"
      },
      "id": "5nP8HpjKZRDJ",
      "execution_count": 12,
      "outputs": [
        {
          "output_type": "stream",
          "name": "stdout",
          "text": [
            "3\n",
            "<class 'set'>\n"
          ]
        }
      ]
    },
    {
      "cell_type": "code",
      "source": [
        "#Add Any Iterable\n",
        "\n",
        "# The object in the update() method does not have to be a set, it can be any iterable object (tuples, lists, dictionaries etc.).\n",
        "\n",
        "thisset = {\"apple\", \"banana\", \"cherry\"}\n",
        "mylist = [\"kiwi\", \"orange\"]\n",
        "\n",
        "thisset.update(mylist)\n",
        "\n",
        "print(thisset)"
      ],
      "metadata": {
        "colab": {
          "base_uri": "https://localhost:8080/"
        },
        "id": "u7xlQkYZZVUl",
        "outputId": "dbb24ff4-3dc0-44df-b341-e4c27dcc6abd"
      },
      "id": "u7xlQkYZZVUl",
      "execution_count": 13,
      "outputs": [
        {
          "output_type": "stream",
          "name": "stdout",
          "text": [
            "{'apple', 'banana', 'orange', 'cherry', 'kiwi'}\n"
          ]
        }
      ]
    },
    {
      "cell_type": "code",
      "source": [
        "# Loop Sets\n",
        "\n",
        "thisset = {\"apple\", \"banana\", \"cherry\"}\n",
        "\n",
        "for x in thisset:\n",
        "    print(x)"
      ],
      "metadata": {
        "colab": {
          "base_uri": "https://localhost:8080/"
        },
        "id": "KlraiQRiZYKK",
        "outputId": "5c4a7a8c-a49c-418a-ac6c-37f1593fe284"
      },
      "id": "KlraiQRiZYKK",
      "execution_count": 14,
      "outputs": [
        {
          "output_type": "stream",
          "name": "stdout",
          "text": [
            "apple\n",
            "cherry\n",
            "banana\n"
          ]
        }
      ]
    },
    {
      "cell_type": "markdown",
      "source": [
        "### Python Dictionaries"
      ],
      "metadata": {
        "id": "X-6ACmrdZgb0"
      },
      "id": "X-6ACmrdZgb0"
    },
    {
      "cell_type": "code",
      "source": [
        "thisdict = {\n",
        "  \"brand\": \"Ford\",\n",
        "  \"model\": \"Mustang\",\n",
        "  \"year\": 1964\n",
        "}\n",
        "print(thisdict)\n",
        "print(thisdict[\"brand\"])\n",
        "print(len(thisdict))\n",
        "print(type(thisdict))\n",
        "x = thisdict[\"model\"]\n",
        "print(x)"
      ],
      "metadata": {
        "colab": {
          "base_uri": "https://localhost:8080/"
        },
        "id": "w4hyEDVGZc4e",
        "outputId": "753c2c1d-891d-4dc7-9f35-e861983d40a9"
      },
      "id": "w4hyEDVGZc4e",
      "execution_count": 16,
      "outputs": [
        {
          "output_type": "stream",
          "name": "stdout",
          "text": [
            "{'brand': 'Ford', 'model': 'Mustang', 'year': 1964}\n",
            "Ford\n",
            "3\n",
            "<class 'dict'>\n",
            "Mustang\n"
          ]
        }
      ]
    },
    {
      "cell_type": "code",
      "source": [
        "#Using the dict() method to make a dictionary:\n",
        "\n",
        "\n",
        "thisdict = dict(name = \"John\", age = 36, country = \"Norway\")\n",
        "print(thisdict)\n"
      ],
      "metadata": {
        "colab": {
          "base_uri": "https://localhost:8080/"
        },
        "id": "Hp4o7L7zZeFN",
        "outputId": "7b6eb883-5662-47d1-e71d-1c225d00bc8e"
      },
      "id": "Hp4o7L7zZeFN",
      "execution_count": 17,
      "outputs": [
        {
          "output_type": "stream",
          "name": "stdout",
          "text": [
            "{'name': 'John', 'age': 36, 'country': 'Norway'}\n"
          ]
        }
      ]
    },
    {
      "cell_type": "code",
      "source": [
        "# The keys() method will return a list of all the keys in the dictionary.\n",
        "\n",
        "x = thisdict.keys()\n",
        "print(x)"
      ],
      "metadata": {
        "colab": {
          "base_uri": "https://localhost:8080/"
        },
        "id": "LEjqhNzcZnzl",
        "outputId": "5d264b30-00cd-4e60-de97-459d7078df27"
      },
      "id": "LEjqhNzcZnzl",
      "execution_count": 18,
      "outputs": [
        {
          "output_type": "stream",
          "name": "stdout",
          "text": [
            "dict_keys(['name', 'age', 'country'])\n"
          ]
        }
      ]
    },
    {
      "cell_type": "code",
      "source": [
        "car = {\n",
        "\"brand\": \"Ford\",\n",
        "\"model\": \"Mustang\",\n",
        "\"year\": 1964\n",
        "}\n",
        "\n",
        "x = car.keys()\n",
        "\n",
        "print(x) #before the change\n",
        "\n",
        "car[\"color\"] = \"white\"\n",
        "\n",
        "print(x) #after the change"
      ],
      "metadata": {
        "colab": {
          "base_uri": "https://localhost:8080/"
        },
        "id": "rLe2Ju2EZqZ0",
        "outputId": "5f5e2dba-09c7-4f8a-b434-604f2977f880"
      },
      "id": "rLe2Ju2EZqZ0",
      "execution_count": 19,
      "outputs": [
        {
          "output_type": "stream",
          "name": "stdout",
          "text": [
            "dict_keys(['brand', 'model', 'year'])\n",
            "dict_keys(['brand', 'model', 'year', 'color'])\n"
          ]
        }
      ]
    },
    {
      "cell_type": "code",
      "source": [
        "# The values() method will return a list of all the values in the dictionary.\n",
        "\n",
        "car = {\n",
        "\"brand\": \"Ford\",\n",
        "\"model\": \"Mustang\",\n",
        "\"year\": 1964\n",
        "}\n",
        "\n",
        "x = car.values()\n",
        "\n",
        "print(x) #before the change\n",
        "\n",
        "car[\"year\"] = 2020\n",
        "\n",
        "print(x) #after the change\n",
        "\n"
      ],
      "metadata": {
        "colab": {
          "base_uri": "https://localhost:8080/"
        },
        "id": "x-qMRXKsZtSF",
        "outputId": "3014ec29-d70f-4b18-cf9f-416ef112ac1a"
      },
      "id": "x-qMRXKsZtSF",
      "execution_count": 20,
      "outputs": [
        {
          "output_type": "stream",
          "name": "stdout",
          "text": [
            "dict_values(['Ford', 'Mustang', 1964])\n",
            "dict_values(['Ford', 'Mustang', 2020])\n"
          ]
        }
      ]
    },
    {
      "cell_type": "code",
      "source": [
        "# o determine if a specified key is present in a dictionary use the in keyword\n",
        "\n",
        "thisdict = {\n",
        "  \"brand\": \"Ford\",\n",
        "  \"model\": \"Mustang\",\n",
        "  \"year\": 1964\n",
        "}\n",
        "if \"model\" in thisdict:\n",
        "  print(\"Yes, 'model' is one of the keys in the thisdict dictionary\")"
      ],
      "metadata": {
        "colab": {
          "base_uri": "https://localhost:8080/"
        },
        "id": "rM7BxHOlZuiL",
        "outputId": "ac11cb12-ac48-4af1-9577-a1ab6ecb53ac"
      },
      "id": "rM7BxHOlZuiL",
      "execution_count": 21,
      "outputs": [
        {
          "output_type": "stream",
          "name": "stdout",
          "text": [
            "Yes, 'model' is one of the keys in the thisdict dictionary\n"
          ]
        }
      ]
    },
    {
      "cell_type": "code",
      "source": [
        "# The pop() method removes the item with the specified key name\n",
        "\n",
        "thisdict = {\n",
        "  \"brand\": \"Ford\",\n",
        "  \"model\": \"Mustang\",\n",
        "  \"year\": 1964\n",
        "}\n",
        "thisdict.pop(\"model\")\n",
        "print(thisdict)\n"
      ],
      "metadata": {
        "colab": {
          "base_uri": "https://localhost:8080/"
        },
        "id": "h1DfoKejZzR9",
        "outputId": "ecb06815-1533-445e-eaea-886cf000d123"
      },
      "id": "h1DfoKejZzR9",
      "execution_count": 22,
      "outputs": [
        {
          "output_type": "stream",
          "name": "stdout",
          "text": [
            "{'brand': 'Ford', 'year': 1964}\n"
          ]
        }
      ]
    },
    {
      "cell_type": "code",
      "source": [
        "# The del keyword removes the item with the specified key name\n",
        "\n",
        "\n",
        "thisdict = {\n",
        "  \"brand\": \"Ford\",\n",
        "  \"model\": \"Mustang\",\n",
        "  \"year\": 1964\n",
        "}\n",
        "del thisdict[\"model\"]\n",
        "print(thisdict)"
      ],
      "metadata": {
        "colab": {
          "base_uri": "https://localhost:8080/"
        },
        "id": "EM3mGRgIZ2JV",
        "outputId": "f1c0d019-89ed-42b3-bcf2-b7324f848690"
      },
      "id": "EM3mGRgIZ2JV",
      "execution_count": 23,
      "outputs": [
        {
          "output_type": "stream",
          "name": "stdout",
          "text": [
            "{'brand': 'Ford', 'year': 1964}\n"
          ]
        }
      ]
    },
    {
      "cell_type": "code",
      "source": [
        "### Loop Through a Dictionary:\n",
        "# Print all key names in the dictionary, one by one:\n",
        "\n",
        "for x in thisdict:\n",
        "    print(x)\n"
      ],
      "metadata": {
        "colab": {
          "base_uri": "https://localhost:8080/"
        },
        "id": "dKtfF77kZ50w",
        "outputId": "c4e7b462-03ab-460f-cace-b732e348c20e"
      },
      "id": "dKtfF77kZ50w",
      "execution_count": 24,
      "outputs": [
        {
          "output_type": "stream",
          "name": "stdout",
          "text": [
            "brand\n",
            "year\n"
          ]
        }
      ]
    },
    {
      "cell_type": "code",
      "source": [
        "# Print all values in the dictionary, one by one:\n",
        "\n",
        "for x in thisdict:\n",
        "    print(thisdict[x])\n",
        "\n",
        "# The same Result\n",
        "\n",
        "for x in thisdict.values():\n",
        "    print(x)"
      ],
      "metadata": {
        "colab": {
          "base_uri": "https://localhost:8080/"
        },
        "id": "qnru9HVEZ63U",
        "outputId": "68fb03c7-6f58-4665-cc0b-0108b6aec442"
      },
      "id": "qnru9HVEZ63U",
      "execution_count": 25,
      "outputs": [
        {
          "output_type": "stream",
          "name": "stdout",
          "text": [
            "Ford\n",
            "1964\n",
            "Ford\n",
            "1964\n"
          ]
        }
      ]
    },
    {
      "cell_type": "code",
      "source": [
        "# Loop through both keys and values, by using the items() method:\n",
        "\n",
        "for x, y in thisdict.items():\n",
        "    print(x, y)\n"
      ],
      "metadata": {
        "colab": {
          "base_uri": "https://localhost:8080/"
        },
        "id": "9D05ctkzaADN",
        "outputId": "77d1fba3-df1c-4e66-8660-f0e0d738c2a0"
      },
      "id": "9D05ctkzaADN",
      "execution_count": 26,
      "outputs": [
        {
          "output_type": "stream",
          "name": "stdout",
          "text": [
            "brand Ford\n",
            "year 1964\n"
          ]
        }
      ]
    },
    {
      "cell_type": "code",
      "source": [
        "### Nested Disctionaries:\n",
        "\n",
        "myfamily = {\n",
        "  \"child1\" : {\n",
        "    \"name\" : \"Emil\",\n",
        "    \"year\" : 2004\n",
        "  },\n",
        "  \"child2\" : {\n",
        "    \"name\" : \"Tobias\",\n",
        "    \"year\" : 2007\n",
        "  },\n",
        "  \"child3\" : {\n",
        "    \"name\" : \"Linus\",\n",
        "    \"year\" : 2011\n",
        "  }\n",
        "}\n",
        "print(myfamily)\n",
        "\n",
        "\n",
        "#The same result\n",
        "\n",
        "child1 = {\n",
        "  \"name\" : \"Emil\",\n",
        "  \"year\" : 2004\n",
        "}\n",
        "child2 = {\n",
        "  \"name\" : \"Tobias\",\n",
        "  \"year\" : 2007\n",
        "}\n",
        "child3 = {\n",
        "  \"name\" : \"Linus\",\n",
        "  \"year\" : 2011\n",
        "}\n",
        "\n",
        "myfamily = {\n",
        "  \"child1\" : child1,\n",
        "  \"child2\" : child2,\n",
        "  \"child3\" : child3\n",
        "}\n",
        "\n",
        "\n",
        "print(myfamily)\n"
      ],
      "metadata": {
        "colab": {
          "base_uri": "https://localhost:8080/"
        },
        "id": "aUmRCcW9aBGP",
        "outputId": "52b4fa9e-2be0-46f5-b98d-46d830d9c156"
      },
      "id": "aUmRCcW9aBGP",
      "execution_count": 27,
      "outputs": [
        {
          "output_type": "stream",
          "name": "stdout",
          "text": [
            "{'child1': {'name': 'Emil', 'year': 2004}, 'child2': {'name': 'Tobias', 'year': 2007}, 'child3': {'name': 'Linus', 'year': 2011}}\n",
            "{'child1': {'name': 'Emil', 'year': 2004}, 'child2': {'name': 'Tobias', 'year': 2007}, 'child3': {'name': 'Linus', 'year': 2011}}\n"
          ]
        }
      ]
    }
  ],
  "metadata": {
    "kernelspec": {
      "display_name": "Python 3 (ipykernel)",
      "language": "python",
      "name": "python3"
    },
    "language_info": {
      "codemirror_mode": {
        "name": "ipython",
        "version": 3
      },
      "file_extension": ".py",
      "mimetype": "text/x-python",
      "name": "python",
      "nbconvert_exporter": "python",
      "pygments_lexer": "ipython3",
      "version": "3.9.13"
    },
    "colab": {
      "provenance": []
    }
  },
  "nbformat": 4,
  "nbformat_minor": 5
}